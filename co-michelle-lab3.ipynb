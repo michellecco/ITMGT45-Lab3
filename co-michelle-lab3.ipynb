{
 "cells": [
  {
   "cell_type": "markdown",
   "metadata": {},
   "source": [
    "195705 Co 2 BS ITE"
   ]
  },
  {
   "cell_type": "markdown",
   "metadata": {},
   "source": [
    "## Problem 1\n",
    "Social Media Example\n",
    "(6 points)\n",
    "\n",
    "In a prototype of a new in-campus mobile app, there is social media support similar to what's seen on Facebook, Instagram and Spotify. Students and Faculty belong to the same social graph. Any student or teacher can follow other members of the app community. If two members follow each other, they are considered friends.\n",
    "\n",
    "Write a function **relationship_status(from_member, to_member)** that determines if two members are friends, or if the first person follows or is followed by the second person. The function should return one of these:\n",
    "\n",
    "\"follower\" (type is str)\n",
    "\"followed by\"(type is str)\n",
    "None (type is None)"
   ]
  },
  {
   "cell_type": "code",
   "execution_count": 27,
   "metadata": {},
   "outputs": [
    {
     "name": "stdout",
     "output_type": "stream",
     "text": [
      "('followed by:', '@jobenilagan')\n",
      "friends\n",
      "('followed by:', '@chums')\n",
      "None\n",
      "('followed by:', '@chums')\n",
      "friends\n",
      "friends\n"
     ]
    }
   ],
   "source": [
    "# social graph data\n",
    "\n",
    "social_graph = {\n",
    "    \"@bongolpoc\":{\"first_name\":\"Joselito\",\n",
    "                  \"last_name\":\"Olpoc\",\n",
    "                  \"follows\":[\n",
    "                  ]\n",
    "    },\n",
    "    \"@joaquin\":  {\"first_name\":\"Joaquin\",\n",
    "                  \"last_name\":\"Gonzales\",\n",
    "                  \"follows\":[\n",
    "                      \"@chums\",\"@jobenilagan\"\n",
    "                  ]\n",
    "    },\n",
    "    \"@chums\" : {\"first_name\":\"Matthew\",\n",
    "                \"last_name\":\"Uy\",\n",
    "                \"follows\":[\n",
    "                    \"@bongolpoc\",\"@miketan\",\"@rudyang\",\"@joeilagan\"\n",
    "                ]\n",
    "    },\n",
    "    \"@jobenilagan\":{\"first_name\":\"Joben\",\n",
    "                   \"last_name\":\"Ilagan\",\n",
    "                   \"follows\":[\n",
    "                    \"@eeebeee\",\"@joeilagan\",\"@chums\",\"@joaquin\"\n",
    "                   ]\n",
    "    },\n",
    "    \"@joeilagan\":{\"first_name\":\"Joe\",\n",
    "                  \"last_name\":\"Ilagan\",\n",
    "                  \"follows\":[\n",
    "                    \"@eeebeee\",\"@jobenilagan\",\"@chums\"\n",
    "                  ]\n",
    "    },\n",
    "    \"@eeebeee\":  {\"first_name\":\"Elizabeth\",\n",
    "                  \"last_name\":\"Ilagan\",\n",
    "                  \"follows\":[\n",
    "                    \"@jobenilagan\",\"@joeilagan\"\n",
    "                  ]\n",
    "    },\n",
    "}\n",
    "\n",
    "# define relationship_stutus(from_member, to_member)\n",
    "def relationship_status (from_member, to_member):\n",
    "    if from_member in social_graph[to_member][\"follows\"] and to_member in social_graph[from_member][\"follows\"]:\n",
    "        return\"friends\"\n",
    "    elif from_member in social_graph [to_member][\"follows\"]:\n",
    "        return(\"followed by:\",to_member)\n",
    "    elif to_member in social_graph [from_member][\"follows\"]:\n",
    "        return (\"follows:\",from_member)\n",
    "    else:\n",
    "        return None\n",
    "\n",
    "# display relationship\n",
    "print(relationship_status(\"@chums\",\"@jobenilagan\"))\n",
    "print(relationship_status(\"@jobenilagan\",\"@joeilagan\"))\n",
    "print(relationship_status(\"@bongolpoc\",\"@chums\"))\n",
    "print(relationship_status(\"@bongolpoc\",\"@jobenilagan\"))\n",
    "print(relationship_status(\"@bongolpoc\",\"@chums\"))\n",
    "print(relationship_status(\"@chums\",\"@joeilagan\"))\n",
    "print(relationship_status(\"@joeilagan\",\"@chums\"))"
   ]
  },
  {
   "cell_type": "markdown",
   "metadata": {},
   "source": [
    "## Problem 2\n",
    "(6 points)\n",
    "Write code that checks a possible winner for the current state of a 3x3 tic-tac-toe board.\n",
    "\n",
    "There are several strategies here:\n",
    "\n",
    "check if any symbol has all three slots in any row, column, or any of the two diagonals\n",
    "create a set for each row, column and diagonal; if the set count of 1 indicates a winner. (Why?)\n",
    "You are given the following board configurations:"
   ]
  },
  {
   "cell_type": "code",
   "execution_count": null,
   "metadata": {},
   "outputs": [],
   "source": [
    "# data\n",
    "board1 = [\n",
    "['X','X','O'],\n",
    "['O','X','O'],\n",
    "['O','','X'],\n",
    "]\n",
    "\n",
    "board2 = [\n",
    "['X','X','O'],\n",
    "['O','X','O'],\n",
    "['','O','X'],\n",
    "]\n",
    "\n",
    "board3 = [\n",
    "['O','X','O'],\n",
    "['','O','X'],\n",
    "['X','X','O'],\n",
    "]\n",
    "\n",
    "board4 = [\n",
    "['X','X','X'],\n",
    "['O','X','O'],\n",
    "['O','','O'],\n",
    "]\n",
    "\n",
    "board5 = [\n",
    "['X','X','O'],\n",
    "['O','X','O'],\n",
    "['X','','O'],\n",
    "]\n",
    "\n",
    "board6 = [\n",
    "['X','X','O'],\n",
    "['O','X','O'],\n",
    "['X','',''],\n",
    "]\n"
   ]
  },
  {
   "cell_type": "code",
   "execution_count": null,
   "metadata": {},
   "outputs": [],
   "source": [
    "def get_winner(board):\n",
    "    winner = None\n",
    "    \n",
    "   # diagonals\n",
    "    x = [board[d][d] for d,v in enumerate(board)]\n",
    "    if all(num = x[0] for num in x):\n",
    "        winner = x[0]\n",
    "    y = [board[d][2-d] for d,v in enumerate(board)]\n",
    "    if all(num = y[0] for num in y):\n",
    "        winner = y[0]\n",
    "        \n",
    "        \n",
    "    # rows\n",
    "    c = 0\n",
    "    while c < 3:\n",
    "        z = board[c]\n",
    "        if all(num = z[0] for num in z):\n",
    "            winner = z[0]   \n",
    "        c += 1\n",
    "        \n",
    "    #  columns\n",
    "    n=0\n",
    "    while n<3:\n",
    "        a = [column[n] for column in board]\n",
    "        if all(num = a[0] for num in a):\n",
    "            winner = a[0]\n",
    "        n += 1\n",
    "        \n",
    "    return winner\n",
    "\n",
    "# display\n",
    "print(get_winner(board1))\n",
    "print(get_winner(board2))\n",
    "print(get_winner(board3))\n",
    "print(get_winner(board4))\n",
    "print(get_winner(board5))\n",
    "print(get_winner(board6))"
   ]
  },
  {
   "cell_type": "markdown",
   "metadata": {},
   "source": [
    "### Problem 3\n",
    "(8 Points)\n",
    "\n",
    "During the pandemic, a shuttle van service is tasked to travel along a predefined circular route as follows:\n",
    "\n",
    "UP Diliman->Ateneo de Manila (Estimated Time: 10 mins)\n",
    "Ateneo de Manila->De La Salle Taft (Estimated Time: 35 mins)\n",
    "De La Salle Taft->UP Diliman (Estimated Time: 55 mins)\n",
    "The route is one-way only. So, the van cannot go back directly to UP Diliman from Ateneo de Manila; rather, it will have to drop by De La Salle Taft first before going to UP Diliman.\n",
    "\n",
    "Write a function called **eta** that accepts the source and destination of the van and returns the estimated number of minutes to reach the destination."
   ]
  },
  {
   "cell_type": "code",
   "execution_count": 35,
   "metadata": {},
   "outputs": [],
   "source": [
    "locations = {\n",
    "    \"admu\":{\n",
    "        \"name\":\"Ateneo de Manila University\",\n",
    "        \"latitude\":14.6394557,\n",
    "        \"longitude\":121.0758975        \n",
    "    },\n",
    "    \"upd\":{\n",
    "        \"name\":\"University of the Philippines-Diliman Campus\",\n",
    "        \"latitude\":14.6538519,\n",
    "        \"longitude\":121.0663348\n",
    "    },\n",
    "    \"dlsu\":{\n",
    "        \"name\":\"De La Salle University-Taft\",\n",
    "        \"latitude\":14.5647346,\n",
    "        \"longitude\":120.9909876\n",
    "\n",
    "    }, # <-- Note that Python does not complain about this extra comma. This is perfectly okay.\n",
    "       #     The creators of Python saw that dictionaries tend to be changed a lot, so allowing this is a\n",
    "       #     convenience for developers who need to add elements when needed.\n",
    "}\n",
    "\n",
    "legs = {\n",
    "     (\"upd\",\"admu\"):{\n",
    "         \"travel_time_mins\":10\n",
    "     },\n",
    "     (\"admu\",\"dlsu\"):{\n",
    "         \"travel_time_mins\":35\n",
    "     },\n",
    "     (\"dlsu\",\"upd\"):{\n",
    "         \"travel_time_mins\":55\n",
    "     }\n",
    "}"
   ]
  },
  {
   "cell_type": "code",
   "execution_count": 36,
   "metadata": {},
   "outputs": [
    {
     "data": {
      "text/plain": [
       "{('upd', 'admu'): {'travel_time_mins': 10},\n",
       " ('admu', 'dlsu'): {'travel_time_mins': 35},\n",
       " ('dlsu', 'upd'): {'travel_time_mins': 55}}"
      ]
     },
     "execution_count": 36,
     "metadata": {},
     "output_type": "execute_result"
    }
   ],
   "source": [
    "legs"
   ]
  },
  {
   "cell_type": "code",
   "execution_count": 45,
   "metadata": {},
   "outputs": [
    {
     "name": "stdout",
     "output_type": "stream",
     "text": [
      "{'travel_time_mins': 10}\n"
     ]
    }
   ],
   "source": [
    "print(legs[\"upd\",\"admu\"])"
   ]
  },
  {
   "cell_type": "code",
   "execution_count": 88,
   "metadata": {},
   "outputs": [
    {
     "name": "stdout",
     "output_type": "stream",
     "text": [
      "{'travel_time_mins': 10}\n",
      "{'travel_time_mins': 35}\n",
      "{'travel_time_mins': 55}\n",
      "({'travel_time_mins': 35}, {'travel_time_mins': 55})\n",
      "({'travel_time_mins': 55}, {'travel_time_mins': 10})\n"
     ]
    }
   ],
   "source": [
    "def eta(s,d):\n",
    "    travel_time = 0\n",
    "    if s == d:\n",
    "        return 0\n",
    "    \n",
    "    else:\n",
    "        # upd to admu\n",
    "        if \"upd\" in s and \"admu\" in d:\n",
    "            return legs[\"upd\",\"admu\"]\n",
    "        \n",
    "        # admu to dlsu\n",
    "        elif \"admu\" in s and \"dlsu\" in d:\n",
    "            return legs[\"admu\",\"dlsu\"]\n",
    "        \n",
    "        # dlsu to upd\n",
    "        elif \"dlsu\" in s and \"upd\" in d:\n",
    "            return legs[\"dlsu\",\"upd\"]\n",
    "        \n",
    "        # admu to upd\n",
    "        elif \"admu\" in s and \"upd\" in d:\n",
    "            return (legs[\"admu\",\"dlsu\"],legs[\"dlsu\",\"upd\"])\n",
    "        \n",
    "        # admu to upd\n",
    "        elif \"dlsu\" in s and \"admu\" in d:\n",
    "            return (legs[\"dlsu\",\"upd\"],legs[\"upd\",\"admu\"])\n",
    "        \n",
    "      \n",
    "        \n",
    "        \n",
    "       \n",
    "    \n",
    "print(eta('upd','admu'))\n",
    "print(eta('admu','dlsu'))\n",
    "print(eta('dlsu','upd'))\n",
    "print(eta('admu','upd'))\n",
    "print(eta('dlsu','admu'))"
   ]
  },
  {
   "cell_type": "code",
   "execution_count": null,
   "metadata": {},
   "outputs": [],
   "source": []
  }
 ],
 "metadata": {
  "kernelspec": {
   "display_name": "Python 3",
   "language": "python",
   "name": "python3"
  },
  "language_info": {
   "codemirror_mode": {
    "name": "ipython",
    "version": 3
   },
   "file_extension": ".py",
   "mimetype": "text/x-python",
   "name": "python",
   "nbconvert_exporter": "python",
   "pygments_lexer": "ipython3",
   "version": "3.8.3"
  }
 },
 "nbformat": 4,
 "nbformat_minor": 4
}
